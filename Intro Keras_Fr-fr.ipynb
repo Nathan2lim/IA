{
 "cells": [
  {
   "cell_type": "markdown",
   "metadata": {},
   "source": [
    "# Entrainer un réseau de neurones avec la bibliothèque Keras\n",
    "\n",
    "### Objectif : \n",
    "- Entrainer un réseau de neurones avec la bibliothèque Keras basée sur `tensorflow`\n",
    "\n",
    "### Jeu de données:\n",
    "- Digits: 10 class handwritten digits\n",
    "- http://scikit-learn.org/stable/modules/generated/sklearn.datasets.load_digits.html#sklearn.datasets.load_digits"
   ]
  },
  {
   "cell_type": "code",
   "execution_count": 33,
   "metadata": {},
   "outputs": [
    {
     "ename": "ModuleNotFoundError",
     "evalue": "No module named 'tensorflow'",
     "output_type": "error",
     "traceback": [
      "\u001b[0;31m---------------------------------------------------------------------------\u001b[0m",
      "\u001b[0;31mModuleNotFoundError\u001b[0m                       Traceback (most recent call last)",
      "\u001b[1;32m/Users/nathangilbert/Documents/IUT/BUT 3/IA/Intro Keras_Fr-fr.ipynb Cell 2\u001b[0m line \u001b[0;36m4\n\u001b[1;32m      <a href='vscode-notebook-cell:/Users/nathangilbert/Documents/IUT/BUT%203/IA/Intro%20Keras_Fr-fr.ipynb#W1sZmlsZQ%3D%3D?line=1'>2</a>\u001b[0m \u001b[39m# display figures in the notebook\u001b[39;00m\n\u001b[1;32m      <a href='vscode-notebook-cell:/Users/nathangilbert/Documents/IUT/BUT%203/IA/Intro%20Keras_Fr-fr.ipynb#W1sZmlsZQ%3D%3D?line=2'>3</a>\u001b[0m \u001b[39mimport\u001b[39;00m \u001b[39mmatplotlib\u001b[39;00m\u001b[39m.\u001b[39;00m\u001b[39mpyplot\u001b[39;00m \u001b[39mas\u001b[39;00m \u001b[39mplt\u001b[39;00m\n\u001b[0;32m----> <a href='vscode-notebook-cell:/Users/nathangilbert/Documents/IUT/BUT%203/IA/Intro%20Keras_Fr-fr.ipynb#W1sZmlsZQ%3D%3D?line=3'>4</a>\u001b[0m \u001b[39mimport\u001b[39;00m \u001b[39mtensorflow\u001b[39;00m \u001b[39mas\u001b[39;00m \u001b[39mtf\u001b[39;00m\n\u001b[1;32m      <a href='vscode-notebook-cell:/Users/nathangilbert/Documents/IUT/BUT%203/IA/Intro%20Keras_Fr-fr.ipynb#W1sZmlsZQ%3D%3D?line=4'>5</a>\u001b[0m \u001b[39mimport\u001b[39;00m \u001b[39mnumpy\u001b[39;00m \u001b[39mas\u001b[39;00m \u001b[39mnp\u001b[39;00m\n\u001b[1;32m      <a href='vscode-notebook-cell:/Users/nathangilbert/Documents/IUT/BUT%203/IA/Intro%20Keras_Fr-fr.ipynb#W1sZmlsZQ%3D%3D?line=5'>6</a>\u001b[0m \u001b[39mfrom\u001b[39;00m \u001b[39msklearn\u001b[39;00m\u001b[39m.\u001b[39;00m\u001b[39mdatasets\u001b[39;00m \u001b[39mimport\u001b[39;00m load_digits\n",
      "\u001b[0;31mModuleNotFoundError\u001b[0m: No module named 'tensorflow'"
     ]
    }
   ],
   "source": [
    "%matplotlib inline \n",
    "# display figures in the notebook\n",
    "import matplotlib.pyplot as plt\n",
    "import tensorflow as tf\n",
    "import numpy as np\n",
    "from sklearn.datasets import load_digits\n",
    "\n",
    "digits = load_digits()"
   ]
  },
  {
   "cell_type": "code",
   "execution_count": 11,
   "metadata": {},
   "outputs": [
    {
     "data": {
      "image/png": "[encoded data removed]",
      "text/plain": [
       "<Figure size 300x300 with 1 Axes>"
      ]
     },
     "metadata": {},
     "output_type": "display_data"
    }
   ],
   "source": [
    "sample_index = 45\n",
    "plt.figure(figsize=(3, 3))\n",
    "plt.imshow(digits.images[sample_index], cmap=plt.cm.gray_r,\n",
    "           interpolation='nearest')\n",
    "plt.title(\"image label: %d\" % digits.target[sample_index]);"
   ]
  },
  {
   "cell_type": "markdown",
   "metadata": {},
   "source": [
    "## Apprentissage / Validation\n",
    "\n",
    "On sépare le jeu de données entre apprentissage et validation pour estimer la capacité de généralisation de notre modèle (il faudrait aussi un ensemble de test pour évaluer rigoureusement la performance).\n"
   ]
  },
  {
   "cell_type": "code",
   "execution_count": 12,
   "metadata": {},
   "outputs": [],
   "source": [
    "from sklearn.model_selection import train_test_split\n",
    "\n",
    "\n",
    "data = np.asarray(digits.data, dtype='float32')\n",
    "target = np.asarray(digits.target, dtype='int32')\n",
    "\n",
    "X_train, X_test, y_train, y_test = train_test_split(\n",
    "    data, target, test_size=0.15, random_state=37)"
   ]
  },
  {
   "cell_type": "markdown",
   "metadata": {},
   "source": [
    "## Prétraitement des données en entrée\n",
    "\n",
    "On s'assure que les entrées ont à peu près la même magnitude en les normalisant :"
   ]
  },
  {
   "cell_type": "code",
   "execution_count": 13,
   "metadata": {},
   "outputs": [],
   "source": [
    "from sklearn import preprocessing\n",
    "\n",
    "\n",
    "# mean = 0 ; standard deviation = 1.0\n",
    "scaler = preprocessing.StandardScaler()\n",
    "X_train = scaler.fit_transform(X_train)\n",
    "X_test = scaler.transform(X_test)\n",
    "\n",
    "# print(scaler.mean_)\n",
    "# print(scaler.scale_)"
   ]
  },
  {
   "cell_type": "markdown",
   "metadata": {},
   "source": [
    "Affichage d'un des individus transformés :"
   ]
  },
  {
   "cell_type": "code",
   "execution_count": 14,
   "metadata": {},
   "outputs": [
    {
     "data": {
      "image/png": "[encoded data removed]",
      "text/plain": [
       "<Figure size 300x300 with 1 Axes>"
      ]
     },
     "metadata": {},
     "output_type": "display_data"
    }
   ],
   "source": [
    "sample_index = 45\n",
    "plt.figure(figsize=(3, 3))\n",
    "plt.imshow(X_train[sample_index].reshape(8, 8),\n",
    "           cmap=plt.cm.gray_r, interpolation='nearest')\n",
    "plt.title(\"Échantillon transformé\\n(normalisation)\");"
   ]
  },
  {
   "cell_type": "code",
   "execution_count": 15,
   "metadata": {},
   "outputs": [
    {
     "name": "stdout",
     "output_type": "stream",
     "text": [
      "(1527, 64) (1527,)\n"
     ]
    }
   ],
   "source": [
    "print(X_train.shape, y_train.shape)"
   ]
  },
  {
   "cell_type": "code",
   "execution_count": 16,
   "metadata": {},
   "outputs": [
    {
     "name": "stdout",
     "output_type": "stream",
     "text": [
      "(270, 64) (270,)\n"
     ]
    }
   ],
   "source": [
    "print(X_test.shape, y_test.shape)"
   ]
  },
  {
   "cell_type": "markdown",
   "metadata": {},
   "source": [
    "## Prétraitement des données cible\n",
    "\n",
    "Pour entrainer notre premier réseau de neurones pour de la classification multi-classes, il faut transformer notre vecteur cible avec une représentation \"one-hot-encoding\". On peut voir que les lables des données sont encodées par des entiers :"
   ]
  },
  {
   "cell_type": "code",
   "execution_count": 17,
   "metadata": {},
   "outputs": [
    {
     "data": {
      "text/plain": [
       "array([2, 9, 5], dtype=int32)"
      ]
     },
     "execution_count": 17,
     "metadata": {},
     "output_type": "execute_result"
    }
   ],
   "source": [
    "y_train[:3]"
   ]
  },
  {
   "cell_type": "markdown",
   "metadata": {},
   "source": [
    "Keras fournit une fonction utilitaire pour réaliser la conversion d'une catégorie codée sous forme d'entier à un codage \"one-hot\"::"
   ]
  },
  {
   "cell_type": "code",
   "execution_count": 30,
   "metadata": {},
   "outputs": [
    {
     "ename": "ModuleNotFoundError",
     "evalue": "No module named 'tensorflow'",
     "output_type": "error",
     "traceback": [
      "\u001b[0;31m---------------------------------------------------------------------------\u001b[0m",
      "\u001b[0;31mModuleNotFoundError\u001b[0m                       Traceback (most recent call last)",
      "\u001b[1;32m/Users/nathangilbert/Documents/IUT/BUT 3/IA/Intro Keras_Fr-fr.ipynb Cell 15\u001b[0m line \u001b[0;36m1\n\u001b[0;32m----> <a href='vscode-notebook-cell:/Users/nathangilbert/Documents/IUT/BUT%203/IA/Intro%20Keras_Fr-fr.ipynb#X20sZmlsZQ%3D%3D?line=0'>1</a>\u001b[0m \u001b[39mfrom\u001b[39;00m \u001b[39mtensorflow\u001b[39;00m\u001b[39m.\u001b[39;00m\u001b[39mkeras\u001b[39;00m\u001b[39m.\u001b[39;00m\u001b[39mutils\u001b[39;00m \u001b[39mimport\u001b[39;00m to_categorical\n\u001b[1;32m      <a href='vscode-notebook-cell:/Users/nathangilbert/Documents/IUT/BUT%203/IA/Intro%20Keras_Fr-fr.ipynb#X20sZmlsZQ%3D%3D?line=2'>3</a>\u001b[0m Y_train \u001b[39m=\u001b[39m to_categorical(y_train)\n\u001b[1;32m      <a href='vscode-notebook-cell:/Users/nathangilbert/Documents/IUT/BUT%203/IA/Intro%20Keras_Fr-fr.ipynb#X20sZmlsZQ%3D%3D?line=3'>4</a>\u001b[0m Y_train[:\u001b[39m3\u001b[39m]\n",
      "\u001b[0;31mModuleNotFoundError\u001b[0m: No module named 'tensorflow'"
     ]
    }
   ],
   "source": [
    "from tensorflow.keras.utils import to_categorical\n",
    "\n",
    "Y_train = to_categorical(y_train)\n",
    "Y_train[:3]"
   ]
  },
  {
   "cell_type": "markdown",
   "metadata": {},
   "source": [
    "## Réseau de neurone à propagation avant (*Feed Forward Network*)\n",
    "\n",
    "On va contruire une premier modèle avec [Keras](https://www.tensorflow.org/guide/keras/overview) pour expérimenter avec différents optimiseurs, activations, tailles de couches de neurones, initialisations\n",
    "\n",
    "### Un premier modèle Keras"
   ]
  },
  {
   "cell_type": "markdown",
   "metadata": {},
   "source": [
    "On va définir notre premier réseau de neurone à propagation avant en utilisant l'API dehaut niveau de Keras:\n",
    "\n",
    "- D'abord, on définit le modèle en empilant les couches avec les bonnes dimensions\n",
    "- Ensuite on définit une fonction de perte (*loss function*) et l'on choisit l'optimiseur de descente de gradient (*SGD*)\n",
    "- Ensuite on entrainele modèle avec le jeu d'apprentissage pour un certain nombre d'époques (*epoch*)"
   ]
  },
  {
   "cell_type": "code",
   "execution_count": null,
   "metadata": {},
   "outputs": [
    {
     "name": "stdout",
     "output_type": "stream",
     "text": [
      "Epoch 1/15\n",
      "39/39 [==============================] - 3s 27ms/step - loss: 0.9708 - accuracy: 0.7445 - val_loss: 0.4314 - val_accuracy: 0.9085\n",
      "Epoch 2/15\n",
      "39/39 [==============================] - 0s 12ms/step - loss: 0.3385 - accuracy: 0.9304 - val_loss: 0.2792 - val_accuracy: 0.9346\n",
      "Epoch 3/15\n",
      "39/39 [==============================] - 0s 10ms/step - loss: 0.2256 - accuracy: 0.9590 - val_loss: 0.2199 - val_accuracy: 0.9510\n",
      "Epoch 4/15\n",
      "39/39 [==============================] - 1s 13ms/step - loss: 0.1744 - accuracy: 0.9697 - val_loss: 0.1856 - val_accuracy: 0.9608\n",
      "Epoch 5/15\n",
      "39/39 [==============================] - 0s 11ms/step - loss: 0.1431 - accuracy: 0.9746 - val_loss: 0.1749 - val_accuracy: 0.9641\n",
      "Epoch 6/15\n",
      "39/39 [==============================] - 0s 10ms/step - loss: 0.1214 - accuracy: 0.9803 - val_loss: 0.1498 - val_accuracy: 0.9706\n",
      "Epoch 7/15\n",
      "39/39 [==============================] - 0s 11ms/step - loss: 0.1060 - accuracy: 0.9820 - val_loss: 0.1429 - val_accuracy: 0.9739\n",
      "Epoch 8/15\n",
      "39/39 [==============================] - 0s 10ms/step - loss: 0.0942 - accuracy: 0.9861 - val_loss: 0.1340 - val_accuracy: 0.9706\n",
      "Epoch 9/15\n",
      "39/39 [==============================] - 0s 13ms/step - loss: 0.0846 - accuracy: 0.9869 - val_loss: 0.1280 - val_accuracy: 0.9771\n",
      "Epoch 10/15\n",
      "39/39 [==============================] - 1s 13ms/step - loss: 0.0768 - accuracy: 0.9894 - val_loss: 0.1215 - val_accuracy: 0.9771\n",
      "Epoch 11/15\n",
      "39/39 [==============================] - 1s 14ms/step - loss: 0.0702 - accuracy: 0.9910 - val_loss: 0.1224 - val_accuracy: 0.9771\n",
      "Epoch 12/15\n",
      "39/39 [==============================] - 0s 11ms/step - loss: 0.0653 - accuracy: 0.9926 - val_loss: 0.1129 - val_accuracy: 0.9771\n",
      "Epoch 13/15\n",
      "39/39 [==============================] - 0s 12ms/step - loss: 0.0596 - accuracy: 0.9926 - val_loss: 0.1101 - val_accuracy: 0.9771\n",
      "Epoch 14/15\n",
      "39/39 [==============================] - 0s 11ms/step - loss: 0.0548 - accuracy: 0.9951 - val_loss: 0.1079 - val_accuracy: 0.9771\n",
      "Epoch 15/15\n",
      "39/39 [==============================] - 0s 12ms/step - loss: 0.0512 - accuracy: 0.9951 - val_loss: 0.1049 - val_accuracy: 0.9771\n"
     ]
    }
   ],
   "source": [
    "from tensorflow.keras.models import Sequential\n",
    "from tensorflow.keras.layers import Dense, Activation\n",
    "from tensorflow.keras import optimizers\n",
    "\n",
    "input_dim = X_train.shape[1]\n",
    "hidden_dim = 100\n",
    "output_dim = 10\n",
    "\n",
    "model = Sequential()\n",
    "model.add(Dense(hidden_dim, input_dim=input_dim, activation=\"tanh\"))\n",
    "model.add(Dense(output_dim, activation=\"softmax\"))\n",
    "\n",
    "model.compile(optimizer=optimizers.SGD(learning_rate=0.1),\n",
    "              loss='categorical_crossentropy', metrics=['accuracy'])\n",
    "\n",
    "history = model.fit(X_train, Y_train, validation_split=0.2, epochs=15, batch_size=32)"
   ]
  },
  {
   "cell_type": "code",
   "execution_count": null,
   "metadata": {},
   "outputs": [
    {
     "name": "stdout",
     "output_type": "stream",
     "text": [
      "Model: \"sequential_4\"\n",
      "_________________________________________________________________\n",
      " Layer (type)                Output Shape              Param #   \n",
      "=================================================================\n",
      " dense_9 (Dense)             (None, 100)               6500      \n",
      "                                                                 \n",
      " dense_10 (Dense)            (None, 10)                1010      \n",
      "                                                                 \n",
      "=================================================================\n",
      "Total params: 7510 (29.34 KB)\n",
      "Trainable params: 7510 (29.34 KB)\n",
      "Non-trainable params: 0 (0.00 Byte)\n",
      "_________________________________________________________________\n"
     ]
    }
   ],
   "source": [
    "model.summary()"
   ]
  },
  {
   "cell_type": "code",
   "execution_count": null,
   "metadata": {},
   "outputs": [
    {
     "name": "stdout",
     "output_type": "stream",
     "text": [
      "Collecting pydot\n",
      "  Downloading pydot-1.4.2-py2.py3-none-any.whl (21 kB)\n",
      "Requirement already satisfied: pyparsing>=2.1.4 in /home/bernard/miniforge3/envs/teaching/lib/python3.11/site-packages (from pydot) (3.1.1)\n",
      "Installing collected packages: pydot\n",
      "Successfully installed pydot-1.4.2\n",
      "Note: you may need to restart the kernel to use updated packages.\n"
     ]
    }
   ],
   "source": [
    "%pip install pydot"
   ]
  },
  {
   "cell_type": "code",
   "execution_count": null,
   "metadata": {},
   "outputs": [
    {
     "name": "stdout",
     "output_type": "stream",
     "text": [
      "You must install pydot (`pip install pydot`) and install graphviz (see instructions at https://graphviz.gitlab.io/download/) for plot_model to work.\n"
     ]
    }
   ],
   "source": [
    "tf.keras.utils.plot_model(model, show_shapes=True)"
   ]
  },
  {
   "cell_type": "markdown",
   "metadata": {},
   "source": [
    "### Visualisation de la convergence"
   ]
  },
  {
   "cell_type": "code",
   "execution_count": null,
   "metadata": {},
   "outputs": [
    {
     "data": {
      "text/plain": [
       "{'loss': [2.014594554901123,\n",
       "  1.420143961906433,\n",
       "  1.0853235721588135,\n",
       "  0.8808627724647522,\n",
       "  0.7455998063087463,\n",
       "  0.6479283571243286,\n",
       "  0.5749041438102722,\n",
       "  0.5187925696372986,\n",
       "  0.4743826389312744,\n",
       "  0.4375632405281067,\n",
       "  0.4071284234523773,\n",
       "  0.38086238503456116,\n",
       "  0.35868212580680847,\n",
       "  0.33884960412979126,\n",
       "  0.3212980031967163],\n",
       " 'accuracy': [0.34316134452819824,\n",
       "  0.665847659111023,\n",
       "  0.7657657861709595,\n",
       "  0.8271908164024353,\n",
       "  0.8583128452301025,\n",
       "  0.875511884689331,\n",
       "  0.8927108645439148,\n",
       "  0.9009009003639221,\n",
       "  0.9099099040031433,\n",
       "  0.914004921913147,\n",
       "  0.9180999398231506,\n",
       "  0.9254709482192993,\n",
       "  0.932841956615448,\n",
       "  0.9369369149208069,\n",
       "  0.9426699280738831],\n",
       " 'val_loss': [1.5908995866775513,\n",
       "  1.1794692277908325,\n",
       "  0.9380291700363159,\n",
       "  0.7844493389129639,\n",
       "  0.677003026008606,\n",
       "  0.6002184748649597,\n",
       "  0.5416961312294006,\n",
       "  0.4970549941062927,\n",
       "  0.46101051568984985,\n",
       "  0.4297577738761902,\n",
       "  0.40101733803749084,\n",
       "  0.3789130747318268,\n",
       "  0.3595866858959198,\n",
       "  0.3425474762916565,\n",
       "  0.32716473937034607],\n",
       " 'val_accuracy': [0.601307213306427,\n",
       "  0.7352941036224365,\n",
       "  0.813725471496582,\n",
       "  0.8496732115745544,\n",
       "  0.8594771027565002,\n",
       "  0.8856208920478821,\n",
       "  0.8921568393707275,\n",
       "  0.9019607901573181,\n",
       "  0.9052287340164185,\n",
       "  0.915032684803009,\n",
       "  0.9248365759849548,\n",
       "  0.9248365759849548,\n",
       "  0.9346405267715454,\n",
       "  0.9411764740943909,\n",
       "  0.9444444179534912]}"
      ]
     },
     "execution_count": 18,
     "metadata": {},
     "output_type": "execute_result"
    }
   ],
   "source": [
    "history.history"
   ]
  },
  {
   "cell_type": "code",
   "execution_count": null,
   "metadata": {},
   "outputs": [
    {
     "data": {
      "text/plain": [
       "[0, 1, 2, 3, 4, 5, 6, 7, 8, 9, 10, 11, 12, 13, 14]"
      ]
     },
     "execution_count": 19,
     "metadata": {},
     "output_type": "execute_result"
    }
   ],
   "source": [
    "history.epoch"
   ]
  },
  {
   "cell_type": "markdown",
   "metadata": {},
   "source": [
    "On peut mettre cela dans une DataFrame Pandas pouren simplifier l'affichage:"
   ]
  },
  {
   "cell_type": "code",
   "execution_count": null,
   "metadata": {},
   "outputs": [
    {
     "data": {
      "text/html": [
       "<div>\n",
       "<style scoped>\n",
       "    .dataframe tbody tr th:only-of-type {\n",
       "        vertical-align: middle;\n",
       "    }\n",
       "\n",
       "    .dataframe tbody tr th {\n",
       "        vertical-align: top;\n",
       "    }\n",
       "\n",
       "    .dataframe thead th {\n",
       "        text-align: right;\n",
       "    }\n",
       "</style>\n",
       "<table border=\"1\" class=\"dataframe\">\n",
       "  <thead>\n",
       "    <tr style=\"text-align: right;\">\n",
       "      <th></th>\n",
       "      <th>loss</th>\n",
       "      <th>accuracy</th>\n",
       "      <th>val_loss</th>\n",
       "      <th>val_accuracy</th>\n",
       "      <th>epoch</th>\n",
       "    </tr>\n",
       "  </thead>\n",
       "  <tbody>\n",
       "    <tr>\n",
       "      <th>0</th>\n",
       "      <td>2.014595</td>\n",
       "      <td>0.343161</td>\n",
       "      <td>1.590900</td>\n",
       "      <td>0.601307</td>\n",
       "      <td>0</td>\n",
       "    </tr>\n",
       "    <tr>\n",
       "      <th>1</th>\n",
       "      <td>1.420144</td>\n",
       "      <td>0.665848</td>\n",
       "      <td>1.179469</td>\n",
       "      <td>0.735294</td>\n",
       "      <td>1</td>\n",
       "    </tr>\n",
       "    <tr>\n",
       "      <th>2</th>\n",
       "      <td>1.085324</td>\n",
       "      <td>0.765766</td>\n",
       "      <td>0.938029</td>\n",
       "      <td>0.813725</td>\n",
       "      <td>2</td>\n",
       "    </tr>\n",
       "    <tr>\n",
       "      <th>3</th>\n",
       "      <td>0.880863</td>\n",
       "      <td>0.827191</td>\n",
       "      <td>0.784449</td>\n",
       "      <td>0.849673</td>\n",
       "      <td>3</td>\n",
       "    </tr>\n",
       "    <tr>\n",
       "      <th>4</th>\n",
       "      <td>0.745600</td>\n",
       "      <td>0.858313</td>\n",
       "      <td>0.677003</td>\n",
       "      <td>0.859477</td>\n",
       "      <td>4</td>\n",
       "    </tr>\n",
       "    <tr>\n",
       "      <th>5</th>\n",
       "      <td>0.647928</td>\n",
       "      <td>0.875512</td>\n",
       "      <td>0.600218</td>\n",
       "      <td>0.885621</td>\n",
       "      <td>5</td>\n",
       "    </tr>\n",
       "    <tr>\n",
       "      <th>6</th>\n",
       "      <td>0.574904</td>\n",
       "      <td>0.892711</td>\n",
       "      <td>0.541696</td>\n",
       "      <td>0.892157</td>\n",
       "      <td>6</td>\n",
       "    </tr>\n",
       "    <tr>\n",
       "      <th>7</th>\n",
       "      <td>0.518793</td>\n",
       "      <td>0.900901</td>\n",
       "      <td>0.497055</td>\n",
       "      <td>0.901961</td>\n",
       "      <td>7</td>\n",
       "    </tr>\n",
       "    <tr>\n",
       "      <th>8</th>\n",
       "      <td>0.474383</td>\n",
       "      <td>0.909910</td>\n",
       "      <td>0.461011</td>\n",
       "      <td>0.905229</td>\n",
       "      <td>8</td>\n",
       "    </tr>\n",
       "    <tr>\n",
       "      <th>9</th>\n",
       "      <td>0.437563</td>\n",
       "      <td>0.914005</td>\n",
       "      <td>0.429758</td>\n",
       "      <td>0.915033</td>\n",
       "      <td>9</td>\n",
       "    </tr>\n",
       "    <tr>\n",
       "      <th>10</th>\n",
       "      <td>0.407128</td>\n",
       "      <td>0.918100</td>\n",
       "      <td>0.401017</td>\n",
       "      <td>0.924837</td>\n",
       "      <td>10</td>\n",
       "    </tr>\n",
       "    <tr>\n",
       "      <th>11</th>\n",
       "      <td>0.380862</td>\n",
       "      <td>0.925471</td>\n",
       "      <td>0.378913</td>\n",
       "      <td>0.924837</td>\n",
       "      <td>11</td>\n",
       "    </tr>\n",
       "    <tr>\n",
       "      <th>12</th>\n",
       "      <td>0.358682</td>\n",
       "      <td>0.932842</td>\n",
       "      <td>0.359587</td>\n",
       "      <td>0.934641</td>\n",
       "      <td>12</td>\n",
       "    </tr>\n",
       "    <tr>\n",
       "      <th>13</th>\n",
       "      <td>0.338850</td>\n",
       "      <td>0.936937</td>\n",
       "      <td>0.342547</td>\n",
       "      <td>0.941176</td>\n",
       "      <td>13</td>\n",
       "    </tr>\n",
       "    <tr>\n",
       "      <th>14</th>\n",
       "      <td>0.321298</td>\n",
       "      <td>0.942670</td>\n",
       "      <td>0.327165</td>\n",
       "      <td>0.944444</td>\n",
       "      <td>14</td>\n",
       "    </tr>\n",
       "  </tbody>\n",
       "</table>\n",
       "</div>"
      ],
      "text/plain": [
       "        loss  accuracy  val_loss  val_accuracy  epoch\n",
       "0   2.014595  0.343161  1.590900      0.601307      0\n",
       "1   1.420144  0.665848  1.179469      0.735294      1\n",
       "2   1.085324  0.765766  0.938029      0.813725      2\n",
       "3   0.880863  0.827191  0.784449      0.849673      3\n",
       "4   0.745600  0.858313  0.677003      0.859477      4\n",
       "5   0.647928  0.875512  0.600218      0.885621      5\n",
       "6   0.574904  0.892711  0.541696      0.892157      6\n",
       "7   0.518793  0.900901  0.497055      0.901961      7\n",
       "8   0.474383  0.909910  0.461011      0.905229      8\n",
       "9   0.437563  0.914005  0.429758      0.915033      9\n",
       "10  0.407128  0.918100  0.401017      0.924837     10\n",
       "11  0.380862  0.925471  0.378913      0.924837     11\n",
       "12  0.358682  0.932842  0.359587      0.934641     12\n",
       "13  0.338850  0.936937  0.342547      0.941176     13\n",
       "14  0.321298  0.942670  0.327165      0.944444     14"
      ]
     },
     "execution_count": 20,
     "metadata": {},
     "output_type": "execute_result"
    }
   ],
   "source": [
    "import pandas as pd\n",
    "\n",
    "history_df = pd.DataFrame(history.history)\n",
    "history_df[\"epoch\"] = history.epoch\n",
    "history_df"
   ]
  },
  {
   "cell_type": "code",
   "execution_count": null,
   "metadata": {},
   "outputs": [
    {
     "data": {
      "image/png": "[encoded data removed]",
      "text/plain": [
       "<Figure size 1200x600 with 2 Axes>"
      ]
     },
     "metadata": {},
     "output_type": "display_data"
    }
   ],
   "source": [
    "fig, (ax0, ax1) = plt.subplots(nrows=2, sharex=True, figsize=(12, 6))\n",
    "history_df.plot(x=\"epoch\", y=[\"loss\", \"val_loss\"], ax=ax0)\n",
    "history_df.plot(x=\"epoch\", y=[\"accuracy\", \"val_accuracy\"], ax=ax1);"
   ]
  },
  {
   "cell_type": "markdown",
   "metadata": {},
   "source": [
    "### Suivi de la convergence avec Tensorboard\n",
    "\n",
    "Tensorboard est un outil intégré de suivi de l'entrainement des réseaux de neurones:"
   ]
  },
  {
   "cell_type": "code",
   "execution_count": null,
   "metadata": {},
   "outputs": [],
   "source": [
    "%load_ext tensorboard"
   ]
  },
  {
   "cell_type": "code",
   "execution_count": null,
   "metadata": {},
   "outputs": [],
   "source": [
    "!rm -rf tensorboard_logs"
   ]
  },
  {
   "cell_type": "code",
   "execution_count": null,
   "metadata": {},
   "outputs": [
    {
     "name": "stdout",
     "output_type": "stream",
     "text": [
      "Epoch 1/15\n",
      "39/39 [==============================] - 3s 34ms/step - loss: 0.9596 - accuracy: 0.7617 - val_loss: 0.4392 - val_accuracy: 0.8922\n",
      "Epoch 2/15\n",
      "39/39 [==============================] - 1s 18ms/step - loss: 0.3266 - accuracy: 0.9361 - val_loss: 0.2780 - val_accuracy: 0.9248\n",
      "Epoch 3/15\n",
      "39/39 [==============================] - 1s 20ms/step - loss: 0.2202 - accuracy: 0.9566 - val_loss: 0.2263 - val_accuracy: 0.9477\n",
      "Epoch 4/15\n",
      "39/39 [==============================] - 1s 16ms/step - loss: 0.1716 - accuracy: 0.9681 - val_loss: 0.1943 - val_accuracy: 0.9477\n",
      "Epoch 5/15\n",
      "39/39 [==============================] - 1s 19ms/step - loss: 0.1416 - accuracy: 0.9754 - val_loss: 0.1674 - val_accuracy: 0.9673\n",
      "Epoch 6/15\n",
      "39/39 [==============================] - 1s 20ms/step - loss: 0.1209 - accuracy: 0.9779 - val_loss: 0.1613 - val_accuracy: 0.9673\n",
      "Epoch 7/15\n",
      "39/39 [==============================] - 1s 23ms/step - loss: 0.1066 - accuracy: 0.9853 - val_loss: 0.1444 - val_accuracy: 0.9673\n",
      "Epoch 8/15\n",
      "39/39 [==============================] - 1s 16ms/step - loss: 0.0942 - accuracy: 0.9853 - val_loss: 0.1357 - val_accuracy: 0.9739\n",
      "Epoch 9/15\n",
      "39/39 [==============================] - 1s 16ms/step - loss: 0.0841 - accuracy: 0.9885 - val_loss: 0.1316 - val_accuracy: 0.9673\n",
      "Epoch 10/15\n",
      "39/39 [==============================] - 1s 17ms/step - loss: 0.0765 - accuracy: 0.9894 - val_loss: 0.1285 - val_accuracy: 0.9673\n",
      "Epoch 11/15\n",
      "39/39 [==============================] - 1s 21ms/step - loss: 0.0701 - accuracy: 0.9902 - val_loss: 0.1200 - val_accuracy: 0.9706\n",
      "Epoch 12/15\n",
      "39/39 [==============================] - 1s 21ms/step - loss: 0.0646 - accuracy: 0.9894 - val_loss: 0.1194 - val_accuracy: 0.9673\n",
      "Epoch 13/15\n",
      "39/39 [==============================] - 1s 17ms/step - loss: 0.0598 - accuracy: 0.9918 - val_loss: 0.1155 - val_accuracy: 0.9706\n",
      "Epoch 14/15\n",
      "39/39 [==============================] - 1s 29ms/step - loss: 0.0555 - accuracy: 0.9926 - val_loss: 0.1125 - val_accuracy: 0.9706\n",
      "Epoch 15/15\n",
      "39/39 [==============================] - 1s 20ms/step - loss: 0.0518 - accuracy: 0.9943 - val_loss: 0.1087 - val_accuracy: 0.9706\n"
     ]
    }
   ],
   "source": [
    "import datetime\n",
    "from tensorflow.keras.callbacks import TensorBoard\n",
    "\n",
    "model = Sequential()\n",
    "model.add(Dense(hidden_dim, input_dim=input_dim, activation=\"tanh\"))\n",
    "model.add(Dense(output_dim, activation=\"softmax\"))\n",
    "\n",
    "model.compile(optimizer=optimizers.SGD(learning_rate=0.1),\n",
    "              loss='categorical_crossentropy', metrics=['accuracy'])\n",
    "\n",
    "timestamp =  datetime.datetime.now().strftime(\"%Y%m%d-%H%M%S\")\n",
    "log_dir = \"tensorboard_logs/\" + timestamp\n",
    "tensorboard_callback = TensorBoard(log_dir=log_dir, histogram_freq=1)\n",
    "\n",
    "model.fit(x=X_train, y=Y_train, validation_split=0.2, epochs=15,\n",
    "          callbacks=[tensorboard_callback]);"
   ]
  },
  {
   "cell_type": "code",
   "execution_count": null,
   "metadata": {},
   "outputs": [
    {
     "data": {
      "text/html": [
       "\n",
       "      <iframe id=\"tensorboard-frame-fba721cd590f6c54\" width=\"100%\" height=\"800\" frameborder=\"0\">\n",
       "      </iframe>\n",
       "      <script>\n",
       "        (function() {\n",
       "          const frame = document.getElementById(\"tensorboard-frame-fba721cd590f6c54\");\n",
       "          const url = new URL(\"/\", window.location);\n",
       "          const port = 6006;\n",
       "          if (port) {\n",
       "            url.port = port;\n",
       "          }\n",
       "          frame.src = url;\n",
       "        })();\n",
       "      </script>\n",
       "    "
      ],
      "text/plain": [
       "<IPython.core.display.HTML object>"
      ]
     },
     "metadata": {},
     "output_type": "display_data"
    }
   ],
   "source": [
    "%tensorboard --logdir tensorboard_logs"
   ]
  },
  {
   "cell_type": "markdown",
   "metadata": {},
   "source": [
    "### b) Exercises: Impact de l'optimiseur\n",
    "\n",
    "- Essayer de diminuer la vitesse d'apprentissage par 10 ou 100. Qu'observez-vous ?\n",
    "\n",
    "- Essayer d'augmenter la vitesse d'apprentissage pour faire diverger l'optimisation.\n",
    "\n",
    "- Configurer l'optimiseur SGD pour avoir un *Nesterov momentum* de 0.9\n",
    "  \n",
    "**Remarques**: \n",
    "\n",
    "La documentation de l'API de Keras est disponible sur:\n",
    "\n",
    "https://www.tensorflow.org/api_docs/python/tf/keras\n",
    "\n",
    "On peut aussi utiliser la documentation en ligne :\n",
    "\n",
    "```python\n",
    "optimizers.SGD?\n",
    "```\n",
    "\n",
    "dans une cellule de code d'un notebook jupyter.\n",
    "\n",
    "On peut aussi utiliser l'autocomplétion\n",
    "```python\n",
    "optimizers.SGD(<shift-tab>\n",
    "```"
   ]
  },
  {
   "cell_type": "code",
   "execution_count": null,
   "metadata": {},
   "outputs": [],
   "source": [
    "optimizers.SGD?"
   ]
  },
  {
   "cell_type": "code",
   "execution_count": null,
   "metadata": {},
   "outputs": [],
   "source": []
  },
  {
   "cell_type": "code",
   "execution_count": null,
   "metadata": {},
   "outputs": [],
   "source": [
    "# %load solutions/keras_sgd_and_momentum.py"
   ]
  },
  {
   "cell_type": "markdown",
   "metadata": {},
   "source": [
    "- Remplacer l'optimiseur SGD un optimiseur Adam optimizer et l'exécuter avec les paramètres par défaut.\n",
    "\n",
    "  Indice: utiliser `optimizers.<TAB>`pour avoir la liste des optimiseurs implémentés par Keras.\n",
    "\n",
    "- Ajouter une autre couche cachée et utiliser le \"Rectified Linear Unit\" pour chaque couche cachée. Pouvez-vous toujours utiliser Adams avec la vitesse d'apprentissage par défaut ?"
   ]
  },
  {
   "cell_type": "code",
   "execution_count": null,
   "metadata": {},
   "outputs": [],
   "source": []
  },
  {
   "cell_type": "code",
   "execution_count": null,
   "metadata": {},
   "outputs": [],
   "source": [
    "# %load solutions/keras_adam.py"
   ]
  },
  {
   "cell_type": "markdown",
   "metadata": {},
   "source": [
    "### Exercises: Forward Pass and Generalization\n",
    "\n",
    "- Compute predictions on test set using `model.predict_classes(...)`\n",
    "- Compute average accuracy of the model on the test set: the fraction of test samples for which the model makes a prediction that matches the true label."
   ]
  },
  {
   "cell_type": "code",
   "execution_count": null,
   "metadata": {},
   "outputs": [],
   "source": []
  },
  {
   "cell_type": "code",
   "execution_count": null,
   "metadata": {},
   "outputs": [],
   "source": [
    "# %load solutions/keras_accuracy_on_test_set.py"
   ]
  },
  {
   "cell_type": "markdown",
   "metadata": {},
   "source": [
    "### numpy arrays vs tensorflow tensors\n",
    "\n",
    "In the previous exercises we used `model.predict_classes(...)` that returns a numpy array:"
   ]
  },
  {
   "cell_type": "code",
   "execution_count": null,
   "metadata": {},
   "outputs": [
    {
     "name": "stdout",
     "output_type": "stream",
     "text": [
      "9/9 [==============================] - 0s 5ms/step\n"
     ]
    },
    {
     "data": {
      "text/plain": [
       "array([2, 4, 7, 9, 1, 1, 5, 6, 2, 5, 0, 2, 0, 7, 4, 8, 7, 0, 3, 6, 9, 1,\n",
       "       9, 8, 0, 9, 3, 4, 2, 7, 5, 4, 2, 8, 6, 9, 6, 1, 8, 6, 5, 7, 8, 1,\n",
       "       6, 5, 0, 1, 9, 4, 8, 5, 3, 9, 3, 4, 4, 6, 7, 5, 4, 0, 3, 8, 1, 2,\n",
       "       6, 8, 6, 5, 1, 7, 4, 7, 4, 1, 7, 0, 8, 8, 5, 2, 0, 3, 7, 4, 2, 7,\n",
       "       6, 0, 6, 0, 8, 3, 6, 7, 3, 0, 7, 8, 8, 5, 8, 1, 4, 1, 2, 9, 1, 4,\n",
       "       8, 9, 9, 0, 9, 5, 6, 8, 2, 1, 4, 7, 3, 8, 7, 0, 4, 2, 1, 1, 5, 2,\n",
       "       5, 6, 9, 1, 2, 7, 6, 0, 9, 2, 1, 0, 8, 2, 1, 4, 2, 4, 1, 5, 9, 3,\n",
       "       3, 4, 1, 2, 2, 5, 6, 0, 7, 9, 6, 8, 6, 1, 1, 3, 5, 2, 0, 9, 0, 2,\n",
       "       2, 8, 0, 7, 6, 0, 8, 5, 3, 9, 5, 7, 9, 9, 8, 0, 7, 1, 8, 4, 7, 7,\n",
       "       4, 0, 8, 1, 4, 0, 8, 8, 6, 5, 0, 1, 6, 2, 0, 4, 7, 5, 3, 7, 3, 4,\n",
       "       5, 9, 9, 7, 3, 4, 5, 8, 1, 1, 9, 5, 5, 1, 4, 1, 2, 9, 2, 9, 5, 3,\n",
       "       6, 0, 9, 6, 7, 6, 7, 5, 2, 6, 5, 3, 2, 8, 5, 5, 4, 2, 2, 5, 0, 5,\n",
       "       2, 8, 8, 7, 9, 0])"
      ]
     },
     "execution_count": 33,
     "metadata": {},
     "output_type": "execute_result"
    }
   ],
   "source": [
    "predict_x= model.predict(X_test) \n",
    "predicted_labels_numpy=np.argmax(predict_x,axis=1)\n",
    "predicted_labels_numpy"
   ]
  },
  {
   "cell_type": "code",
   "execution_count": null,
   "metadata": {},
   "outputs": [
    {
     "data": {
      "text/plain": [
       "(numpy.ndarray, (270,))"
      ]
     },
     "execution_count": 34,
     "metadata": {},
     "output_type": "execute_result"
    }
   ],
   "source": [
    "type(predicted_labels_numpy), predicted_labels_numpy.shape"
   ]
  },
  {
   "cell_type": "markdown",
   "metadata": {},
   "source": [
    "Alternatively one can directly call the model on the data to get the laster layer (softmax) outputs directly as a tensorflow Tensor:"
   ]
  },
  {
   "cell_type": "code",
   "execution_count": null,
   "metadata": {},
   "outputs": [
    {
     "data": {
      "text/plain": [
       "<tf.Tensor: shape=(5, 10), dtype=float32, numpy=\n",
       "array([[4.64426179e-04, 3.86421755e-02, 9.00815666e-01, 3.79519314e-02,\n",
       "        2.39638146e-04, 4.72036627e-04, 1.00944447e-03, 7.79153546e-03,\n",
       "        1.08671850e-02, 1.74588861e-03],\n",
       "       [4.61499952e-02, 1.68532785e-03, 5.99085935e-04, 7.50653198e-05,\n",
       "        9.20165300e-01, 7.05432729e-04, 2.48332098e-02, 4.74226149e-03,\n",
       "        7.68131693e-04, 2.76265899e-04],\n",
       "       [5.05961187e-04, 9.94862057e-03, 1.09397005e-02, 2.29136106e-02,\n",
       "        6.92175282e-03, 3.36237135e-03, 6.74188137e-04, 9.33759689e-01,\n",
       "        3.52481729e-03, 7.44915474e-03],\n",
       "       [3.33449170e-02, 3.34457494e-02, 7.90465996e-03, 1.35735467e-01,\n",
       "        2.89869052e-03, 1.06688440e-02, 6.10047020e-03, 3.22723156e-03,\n",
       "        2.16168370e-02, 7.45057225e-01],\n",
       "       [1.19578862e-03, 8.09913635e-01, 1.07163740e-02, 1.92247313e-02,\n",
       "        1.06697967e-02, 1.52563618e-03, 1.90767564e-03, 3.05709951e-02,\n",
       "        9.96021703e-02, 1.46732442e-02]], dtype=float32)>"
      ]
     },
     "execution_count": 35,
     "metadata": {},
     "output_type": "execute_result"
    }
   ],
   "source": [
    "predictions_tf = model(X_test)\n",
    "predictions_tf[:5]"
   ]
  },
  {
   "cell_type": "code",
   "execution_count": null,
   "metadata": {},
   "outputs": [
    {
     "data": {
      "text/plain": [
       "(tensorflow.python.framework.ops.EagerTensor, TensorShape([270, 10]))"
      ]
     },
     "execution_count": 36,
     "metadata": {},
     "output_type": "execute_result"
    }
   ],
   "source": [
    "type(predictions_tf), predictions_tf.shape"
   ]
  },
  {
   "cell_type": "markdown",
   "metadata": {},
   "source": [
    "We can use the tensorflow API to check that for each row, the probabilities sum to 1:"
   ]
  },
  {
   "cell_type": "code",
   "execution_count": null,
   "metadata": {},
   "outputs": [
    {
     "data": {
      "text/plain": [
       "<tf.Tensor: shape=(5,), dtype=float32, numpy=\n",
       "array([0.9999999, 1.0000001, 0.9999999, 1.       , 1.0000001],\n",
       "      dtype=float32)>"
      ]
     },
     "execution_count": 37,
     "metadata": {},
     "output_type": "execute_result"
    }
   ],
   "source": [
    "import tensorflow as tf\n",
    "\n",
    "tf.reduce_sum(predictions_tf, axis=1)[:5]"
   ]
  },
  {
   "cell_type": "markdown",
   "metadata": {},
   "source": [
    "We can also extract the label with the highest probability using the tensorflow API:"
   ]
  },
  {
   "cell_type": "code",
   "execution_count": null,
   "metadata": {},
   "outputs": [
    {
     "data": {
      "text/plain": [
       "<tf.Tensor: shape=(5,), dtype=int64, numpy=array([2, 4, 7, 9, 1])>"
      ]
     },
     "execution_count": 38,
     "metadata": {},
     "output_type": "execute_result"
    }
   ],
   "source": [
    "predicted_labels_tf = tf.argmax(predictions_tf, axis=1)\n",
    "predicted_labels_tf[:5]"
   ]
  },
  {
   "cell_type": "markdown",
   "metadata": {},
   "source": [
    "We can compare those labels to the expected labels to compute the accuracy with the Tensorflow API. Note however that we need an explicit cast from boolean to floating point values to be able to compute the mean accuracy when using the tensorflow tensors:"
   ]
  },
  {
   "cell_type": "code",
   "execution_count": null,
   "metadata": {},
   "outputs": [
    {
     "data": {
      "text/plain": [
       "<tf.Tensor: shape=(), dtype=float64, numpy=0.9518518518518518>"
      ]
     },
     "execution_count": 39,
     "metadata": {},
     "output_type": "execute_result"
    }
   ],
   "source": [
    "accuracy_tf = tf.reduce_mean(tf.cast(predicted_labels_tf == y_test, tf.float64))\n",
    "accuracy_tf"
   ]
  },
  {
   "cell_type": "markdown",
   "metadata": {},
   "source": [
    "Also note that it is possible to convert tensors to numpy array if one prefer to use numpy:"
   ]
  },
  {
   "cell_type": "code",
   "execution_count": null,
   "metadata": {},
   "outputs": [
    {
     "data": {
      "text/plain": [
       "0.9518518518518518"
      ]
     },
     "execution_count": 40,
     "metadata": {},
     "output_type": "execute_result"
    }
   ],
   "source": [
    "accuracy_tf.numpy()"
   ]
  },
  {
   "cell_type": "code",
   "execution_count": null,
   "metadata": {},
   "outputs": [
    {
     "data": {
      "text/plain": [
       "<tf.Tensor: shape=(5,), dtype=int64, numpy=array([2, 4, 7, 9, 1])>"
      ]
     },
     "execution_count": 41,
     "metadata": {},
     "output_type": "execute_result"
    }
   ],
   "source": [
    "predicted_labels_tf[:5]"
   ]
  },
  {
   "cell_type": "code",
   "execution_count": null,
   "metadata": {},
   "outputs": [
    {
     "data": {
      "text/plain": [
       "array([2, 4, 7, 9, 1])"
      ]
     },
     "execution_count": 42,
     "metadata": {},
     "output_type": "execute_result"
    }
   ],
   "source": [
    "predicted_labels_tf.numpy()[:5]"
   ]
  },
  {
   "cell_type": "code",
   "execution_count": null,
   "metadata": {},
   "outputs": [
    {
     "data": {
      "text/plain": [
       "0.9518518518518518"
      ]
     },
     "execution_count": 43,
     "metadata": {},
     "output_type": "execute_result"
    }
   ],
   "source": [
    "(predicted_labels_tf.numpy() == y_test).mean()"
   ]
  },
  {
   "cell_type": "markdown",
   "metadata": {},
   "source": [
    "## Home Assignment: Impact of Initialization\n",
    "\n",
    "Let us now study the impact of a bad initialization when training\n",
    "a deep feed forward network.\n",
    "\n",
    "By default Keras dense layers use the \"Glorot Uniform\" initialization\n",
    "strategy to initialize the weight matrices:\n",
    "\n",
    "- each weight coefficient is randomly sampled from [-scale, scale]\n",
    "- scale is proportional to $\\frac{1}{\\sqrt{n_{in} + n_{out}}}$\n",
    "\n",
    "This strategy is known to work well to initialize deep neural networks\n",
    "with \"tanh\" or \"relu\" activation functions and then trained with\n",
    "standard SGD.\n",
    "\n",
    "To assess the impact of initialization let us plug an alternative init\n",
    "scheme into a 2 hidden layers networks with \"tanh\" activations.\n",
    "For the sake of the example let's use normal distributed weights\n",
    "with a manually adjustable scale (standard deviation) and see the\n",
    "impact the scale value:"
   ]
  },
  {
   "cell_type": "code",
   "execution_count": null,
   "metadata": {},
   "outputs": [
    {
     "name": "stderr",
     "output_type": "stream",
     "text": [
      "/home/bernard/miniforge3/envs/teaching/lib/python3.11/site-packages/keras/src/initializers/initializers.py:120: UserWarning: The initializer TruncatedNormal is unseeded and being called multiple times, which will return identical values each time (even if the initializer is unseeded). Please update your code to provide a seed to the initializer, or avoid using the same initializer instance more than once.\n",
      "  warnings.warn(\n",
      "WARNING:absl:`lr` is deprecated in Keras optimizer, please use `learning_rate` or use the legacy optimizer, e.g.,tf.keras.optimizers.legacy.SGD.\n"
     ]
    }
   ],
   "source": [
    "from tensorflow.keras import initializers\n",
    "\n",
    "normal_init = initializers.TruncatedNormal(stddev=0.01)\n",
    "\n",
    "\n",
    "model = Sequential()\n",
    "model.add(Dense(hidden_dim, input_dim=input_dim, activation=\"tanh\",\n",
    "                kernel_initializer=normal_init))\n",
    "model.add(Dense(hidden_dim, activation=\"tanh\",\n",
    "                kernel_initializer=normal_init))\n",
    "model.add(Dense(output_dim, activation=\"softmax\",\n",
    "                kernel_initializer=normal_init))\n",
    "\n",
    "model.compile(optimizer=optimizers.SGD(lr=0.1),\n",
    "              loss='categorical_crossentropy', metrics=['accuracy'])"
   ]
  },
  {
   "cell_type": "code",
   "execution_count": null,
   "metadata": {},
   "outputs": [
    {
     "data": {
      "text/plain": [
       "[<keras.src.layers.core.dense.Dense at 0x7f27295fed90>,\n",
       " <keras.src.layers.core.dense.Dense at 0x7f27295e4d10>,\n",
       " <keras.src.layers.core.dense.Dense at 0x7f27295d6010>]"
      ]
     },
     "execution_count": 45,
     "metadata": {},
     "output_type": "execute_result"
    }
   ],
   "source": [
    "model.layers"
   ]
  },
  {
   "cell_type": "markdown",
   "metadata": {},
   "source": [
    "Let's have a look at the parameters of the first layer after initialization but before any training has happened:"
   ]
  },
  {
   "cell_type": "code",
   "execution_count": null,
   "metadata": {},
   "outputs": [
    {
     "data": {
      "text/plain": [
       "[<tf.Variable 'dense_4/kernel:0' shape=(64, 100) dtype=float32, numpy=\n",
       " array([[ 0.01368921,  0.00683239,  0.01295142, ...,  0.00303844,\n",
       "          0.00372718,  0.00402904],\n",
       "        [ 0.00954833, -0.0054127 , -0.0011359 , ...,  0.0052219 ,\n",
       "          0.00092143, -0.00527342],\n",
       "        [ 0.00071814,  0.00114469, -0.00266172, ..., -0.00984032,\n",
       "         -0.00320896, -0.00556879],\n",
       "        ...,\n",
       "        [ 0.00330706, -0.00532768, -0.00681232, ...,  0.00728389,\n",
       "         -0.01075729, -0.01147411],\n",
       "        [-0.0150331 , -0.00288807, -0.00143874, ..., -0.00041232,\n",
       "          0.00349914,  0.01191286],\n",
       "        [ 0.0123184 ,  0.0149681 ,  0.01546972, ...,  0.01931405,\n",
       "          0.00836396,  0.00389667]], dtype=float32)>,\n",
       " <tf.Variable 'dense_4/bias:0' shape=(100,) dtype=float32, numpy=\n",
       " array([0., 0., 0., 0., 0., 0., 0., 0., 0., 0., 0., 0., 0., 0., 0., 0., 0.,\n",
       "        0., 0., 0., 0., 0., 0., 0., 0., 0., 0., 0., 0., 0., 0., 0., 0., 0.,\n",
       "        0., 0., 0., 0., 0., 0., 0., 0., 0., 0., 0., 0., 0., 0., 0., 0., 0.,\n",
       "        0., 0., 0., 0., 0., 0., 0., 0., 0., 0., 0., 0., 0., 0., 0., 0., 0.,\n",
       "        0., 0., 0., 0., 0., 0., 0., 0., 0., 0., 0., 0., 0., 0., 0., 0., 0.,\n",
       "        0., 0., 0., 0., 0., 0., 0., 0., 0., 0., 0., 0., 0., 0., 0.],\n",
       "       dtype=float32)>]"
      ]
     },
     "execution_count": 46,
     "metadata": {},
     "output_type": "execute_result"
    }
   ],
   "source": [
    "model.layers[0].weights"
   ]
  },
  {
   "cell_type": "code",
   "execution_count": null,
   "metadata": {},
   "outputs": [
    {
     "data": {
      "text/plain": [
       "array([[ 0.01368921,  0.00683239,  0.01295142, ...,  0.00303844,\n",
       "         0.00372718,  0.00402904],\n",
       "       [ 0.00954833, -0.0054127 , -0.0011359 , ...,  0.0052219 ,\n",
       "         0.00092143, -0.00527342],\n",
       "       [ 0.00071814,  0.00114469, -0.00266172, ..., -0.00984032,\n",
       "        -0.00320896, -0.00556879],\n",
       "       ...,\n",
       "       [ 0.00330706, -0.00532768, -0.00681232, ...,  0.00728389,\n",
       "        -0.01075729, -0.01147411],\n",
       "       [-0.0150331 , -0.00288807, -0.00143874, ..., -0.00041232,\n",
       "         0.00349914,  0.01191286],\n",
       "       [ 0.0123184 ,  0.0149681 ,  0.01546972, ...,  0.01931405,\n",
       "         0.00836396,  0.00389667]], dtype=float32)"
      ]
     },
     "execution_count": 47,
     "metadata": {},
     "output_type": "execute_result"
    }
   ],
   "source": [
    "w = model.layers[0].weights[0].numpy()\n",
    "w"
   ]
  },
  {
   "cell_type": "code",
   "execution_count": null,
   "metadata": {},
   "outputs": [
    {
     "data": {
      "text/plain": [
       "0.008681422"
      ]
     },
     "execution_count": 48,
     "metadata": {},
     "output_type": "execute_result"
    }
   ],
   "source": [
    "w.std()"
   ]
  },
  {
   "cell_type": "code",
   "execution_count": null,
   "metadata": {},
   "outputs": [
    {
     "data": {
      "text/plain": [
       "array([0., 0., 0., 0., 0., 0., 0., 0., 0., 0., 0., 0., 0., 0., 0., 0., 0.,\n",
       "       0., 0., 0., 0., 0., 0., 0., 0., 0., 0., 0., 0., 0., 0., 0., 0., 0.,\n",
       "       0., 0., 0., 0., 0., 0., 0., 0., 0., 0., 0., 0., 0., 0., 0., 0., 0.,\n",
       "       0., 0., 0., 0., 0., 0., 0., 0., 0., 0., 0., 0., 0., 0., 0., 0., 0.,\n",
       "       0., 0., 0., 0., 0., 0., 0., 0., 0., 0., 0., 0., 0., 0., 0., 0., 0.,\n",
       "       0., 0., 0., 0., 0., 0., 0., 0., 0., 0., 0., 0., 0., 0., 0.],\n",
       "      dtype=float32)"
      ]
     },
     "execution_count": 49,
     "metadata": {},
     "output_type": "execute_result"
    }
   ],
   "source": [
    "b = model.layers[0].weights[1].numpy()\n",
    "b"
   ]
  },
  {
   "cell_type": "code",
   "execution_count": null,
   "metadata": {},
   "outputs": [
    {
     "name": "stdout",
     "output_type": "stream",
     "text": [
      "Epoch 1/15\n",
      "48/48 [==============================] - 2s 12ms/step - loss: 2.3027 - accuracy: 0.0930\n",
      "Epoch 2/15\n",
      "48/48 [==============================] - 0s 8ms/step - loss: 2.3025 - accuracy: 0.1048\n",
      "Epoch 3/15\n",
      "48/48 [==============================] - 0s 7ms/step - loss: 2.3023 - accuracy: 0.1087\n",
      "Epoch 4/15\n",
      "48/48 [==============================] - 0s 7ms/step - loss: 2.3021 - accuracy: 0.1087\n",
      "Epoch 5/15\n",
      "48/48 [==============================] - 0s 10ms/step - loss: 2.3019 - accuracy: 0.1087\n",
      "Epoch 6/15\n",
      "48/48 [==============================] - 0s 9ms/step - loss: 2.3017 - accuracy: 0.1087\n",
      "Epoch 7/15\n",
      "48/48 [==============================] - 0s 7ms/step - loss: 2.3014 - accuracy: 0.1087\n",
      "Epoch 8/15\n",
      "48/48 [==============================] - 0s 7ms/step - loss: 2.3012 - accuracy: 0.1087\n",
      "Epoch 9/15\n",
      "48/48 [==============================] - 0s 7ms/step - loss: 2.3010 - accuracy: 0.1087\n",
      "Epoch 10/15\n",
      "48/48 [==============================] - 0s 7ms/step - loss: 2.3008 - accuracy: 0.1087\n",
      "Epoch 11/15\n",
      "48/48 [==============================] - 0s 6ms/step - loss: 2.3005 - accuracy: 0.1087\n",
      "Epoch 12/15\n",
      "48/48 [==============================] - 0s 6ms/step - loss: 2.3002 - accuracy: 0.1087\n",
      "Epoch 13/15\n",
      "48/48 [==============================] - 0s 6ms/step - loss: 2.3000 - accuracy: 0.1087\n",
      "Epoch 14/15\n",
      "48/48 [==============================] - 0s 6ms/step - loss: 2.2997 - accuracy: 0.1087\n",
      "Epoch 15/15\n",
      "48/48 [==============================] - 0s 7ms/step - loss: 2.2993 - accuracy: 0.1087\n"
     ]
    },
    {
     "data": {
      "image/png": "[encoded data removed]",
      "text/plain": [
       "<Figure size 1200x400 with 1 Axes>"
      ]
     },
     "metadata": {},
     "output_type": "display_data"
    }
   ],
   "source": [
    "history = model.fit(X_train, Y_train, epochs=15, batch_size=32)\n",
    "\n",
    "plt.figure(figsize=(12, 4))\n",
    "plt.plot(history.history['loss'], label=\"Truncated Normal init\")\n",
    "plt.legend();"
   ]
  },
  {
   "cell_type": "markdown",
   "metadata": {},
   "source": [
    "Once the model has been fit, the weights have been updated and notably the biases are no longer 0:"
   ]
  },
  {
   "cell_type": "code",
   "execution_count": null,
   "metadata": {},
   "outputs": [
    {
     "data": {
      "text/plain": [
       "[<tf.Variable 'dense_4/kernel:0' shape=(64, 100) dtype=float32, numpy=\n",
       " array([[ 0.01368921,  0.00683239,  0.01295142, ...,  0.00303844,\n",
       "          0.00372718,  0.00402904],\n",
       "        [ 0.00970834, -0.00587831, -0.00032709, ...,  0.00666083,\n",
       "          0.00148372, -0.00649357],\n",
       "        [ 0.00115202,  0.00094208, -0.00151406, ..., -0.00755765,\n",
       "         -0.0017367 , -0.00870761],\n",
       "        ...,\n",
       "        [ 0.00365205, -0.0049471 , -0.00447563, ...,  0.00986201,\n",
       "         -0.01114726, -0.01055491],\n",
       "        [-0.01561184, -0.00299019,  0.00070162, ...,  0.00231056,\n",
       "          0.0031554 ,  0.01239373],\n",
       "        [ 0.01157695,  0.01474785,  0.01643968, ...,  0.02035365,\n",
       "          0.00831993,  0.00420122]], dtype=float32)>,\n",
       " <tf.Variable 'dense_4/bias:0' shape=(100,) dtype=float32, numpy=\n",
       " array([ 4.94867236e-05,  3.02165736e-05,  3.42775093e-05, -7.86543478e-06,\n",
       "        -2.13712356e-05, -3.05798094e-05,  2.74408485e-05, -1.14289745e-04,\n",
       "        -7.57239195e-06,  2.51888578e-05,  1.29030988e-04, -1.08238819e-05,\n",
       "        -6.44676811e-06, -1.50285096e-05,  6.74874318e-05,  3.35935838e-05,\n",
       "         4.07397492e-05,  4.02026890e-05, -1.16909814e-05,  8.33587092e-06,\n",
       "         4.49214422e-05,  8.62933302e-05, -5.79767948e-05, -9.40329264e-05,\n",
       "        -3.66358363e-05, -8.02538852e-05,  1.21230529e-04, -3.30790426e-05,\n",
       "        -4.69081024e-05, -6.12685562e-06,  3.92350303e-05, -7.51849575e-06,\n",
       "        -9.60065445e-05, -6.09006602e-05,  6.81582751e-05, -1.55512989e-05,\n",
       "         8.81602173e-05,  1.23915506e-05, -8.85357731e-05,  3.46154084e-05,\n",
       "        -9.78851676e-05,  4.46578706e-05,  1.33310505e-05,  3.78744080e-05,\n",
       "         1.92345215e-05, -6.96177740e-05,  8.47563715e-05, -3.26800473e-05,\n",
       "         8.66223672e-06,  5.16251521e-06,  2.57365900e-06, -7.56636146e-05,\n",
       "        -1.11722315e-04,  6.73529357e-05,  9.51786715e-05, -2.42373535e-05,\n",
       "        -3.08640811e-05,  7.19873424e-05,  5.49589859e-05, -2.33205137e-05,\n",
       "        -8.96502661e-06,  1.05230465e-05,  2.91024462e-05, -4.88115365e-05,\n",
       "        -4.84883731e-06, -9.51326947e-05,  3.19842366e-05, -1.04513085e-04,\n",
       "         5.73645011e-05,  2.53413873e-06, -6.75666306e-05, -4.61317359e-05,\n",
       "         5.22961600e-05,  6.56673001e-05,  8.27846816e-05,  1.06688026e-06,\n",
       "         1.12828508e-04,  2.93070425e-05,  4.81386742e-05, -5.49949400e-05,\n",
       "        -1.06138823e-05,  6.67551103e-06, -5.41755762e-05, -7.19111413e-05,\n",
       "        -3.80916463e-05, -1.00425623e-05,  5.01282557e-07, -5.78012223e-05,\n",
       "        -1.08270888e-05,  3.86260108e-05, -4.62208618e-06, -1.05392191e-05,\n",
       "        -9.29935777e-06, -8.57855848e-05,  7.21446122e-05, -2.37978875e-05,\n",
       "         8.41296242e-06,  7.46542792e-05,  7.00656310e-05,  3.62012652e-05],\n",
       "       dtype=float32)>]"
      ]
     },
     "execution_count": 51,
     "metadata": {},
     "output_type": "execute_result"
    }
   ],
   "source": [
    "model.layers[0].weights"
   ]
  },
  {
   "cell_type": "markdown",
   "metadata": {},
   "source": [
    "#### Questions:\n",
    "\n",
    "- Try the following initialization schemes and see whether\n",
    "  the SGD algorithm can successfully train the network or\n",
    "  not:\n",
    "  \n",
    "  - a very small e.g. `stddev=1e-3`\n",
    "  - a larger scale e.g. `stddev=1` or `10`\n",
    "  - initialize all weights to 0 (constant initialization)\n",
    "  \n",
    "- What do you observe? Can you find an explanation for those\n",
    "  outcomes?\n",
    "\n",
    "- Are more advanced solvers such as SGD with momentum or Adam able\n",
    "  to deal better with such bad initializations?"
   ]
  },
  {
   "cell_type": "code",
   "execution_count": null,
   "metadata": {},
   "outputs": [],
   "source": []
  },
  {
   "cell_type": "code",
   "execution_count": null,
   "metadata": {},
   "outputs": [],
   "source": [
    "# %load solutions/keras_initializations.py"
   ]
  },
  {
   "cell_type": "code",
   "execution_count": null,
   "metadata": {},
   "outputs": [],
   "source": [
    "# %load solutions/keras_initializations_analysis.py"
   ]
  },
  {
   "cell_type": "code",
   "execution_count": null,
   "metadata": {},
   "outputs": [],
   "source": []
  }
 ],
 "metadata": {
  "file_extension": ".py",
  "kernelspec": {
   "display_name": "Python 3 (ipykernel)",
   "language": "python",
   "name": "python3"
  },
  "language_info": {
   "codemirror_mode": {
    "name": "ipython",
    "version": 3
   },
   "file_extension": ".py",
   "mimetype": "text/x-python",
   "name": "python",
   "nbconvert_exporter": "python",
   "pygments_lexer": "ipython3",
   "version": "3.11.5"
  },
  "mimetype": "text/x-python",
  "name": "python",
  "npconvert_exporter": "python",
  "pygments_lexer": "ipython3",
  "version": 3
 },
 "nbformat": 4,
 "nbformat_minor": 4
}
