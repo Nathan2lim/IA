{
 "cells": [
  {
   "cell_type": "markdown",
   "id": "867ec2b1-83bf-4ed8-901f-b4ba1689e23a",
   "metadata": {
    "tags": []
   },
   "source": [
    "# Travaux Pratique : Lights out"
   ]
  },
  {
   "cell_type": "markdown",
   "id": "aecd4ea0-e52b-43dd-b738-52f78a3d32b8",
   "metadata": {},
   "source": [
    "### Import"
   ]
  },
  {
   "cell_type": "code",
   "execution_count": 11,
   "id": "44870689-ffb7-4646-a016-ecc323e927b5",
   "metadata": {
    "tags": []
   },
   "outputs": [],
   "source": [
    "import numpy as np\n"
   ]
  },
  {
   "cell_type": "markdown",
   "id": "961f7b9b-b438-46ed-a585-043492579888",
   "metadata": {},
   "source": [
    "## Exercice 1"
   ]
  },
  {
   "cell_type": "markdown",
   "id": "8c576363-869a-4171-a8a5-d20c87797e8f",
   "metadata": {},
   "source": [
    "### Question 1"
   ]
  },
  {
   "cell_type": "code",
   "execution_count": null,
   "id": "3a5ed090-78bd-4de4-a435-605da1b88223",
   "metadata": {},
   "outputs": [],
   "source": []
  },
  {
   "cell_type": "markdown",
   "id": "3b5b3aca-1121-49a8-936d-4b444ecb7411",
   "metadata": {},
   "source": [
    "### Question 2"
   ]
  },
  {
   "cell_type": "code",
   "execution_count": 12,
   "id": "9186bd7f-8e5a-40c2-98af-dabadb06fe11",
   "metadata": {
    "tags": []
   },
   "outputs": [],
   "source": [
    "def Vecteur_Colonne(A) :\n",
    "    return np.reshape(A, (1, -1)) #reshape(A, (1, -1)) permet de réécrire la matrice A sur 1 ligne et autant de colonne que possible (le -1 permets ça)"
   ]
  },
  {
   "cell_type": "code",
   "execution_count": 13,
   "id": "2209bc67-2f29-4ac8-be27-8efd74122bde",
   "metadata": {
    "tags": []
   },
   "outputs": [],
   "source": [
    "#Exemple\n",
    "#matrice = np.array([[1,2,3],[4,5,6]])\n",
    "#print(Vecteur_Colonne(matrice))"
   ]
  },
  {
   "cell_type": "markdown",
   "id": "d5ef137e-0dea-4edb-b315-9c197eef7148",
   "metadata": {
    "tags": []
   },
   "source": [
    "### Question 3"
   ]
  },
  {
   "cell_type": "code",
   "execution_count": 14,
   "id": "1665f3b9-674c-4bdf-bcbd-d4b96bcee63c",
   "metadata": {
    "tags": []
   },
   "outputs": [],
   "source": [
    "def Matrice(V) :\n",
    "    length = int(sqrt(len(V[0])))\n",
    "    return np.reshape(V, (length, length))"
   ]
  },
  {
   "cell_type": "code",
   "execution_count": 15,
   "id": "8eb74bab-77ab-48da-bb77-d5cfb1667e76",
   "metadata": {
    "tags": []
   },
   "outputs": [],
   "source": [
    "#Exemple\n",
    "#vecteur = np.array([1,2,3,4,5,6,7,8,9])\n",
    "#print(Matrice(vecteur))"
   ]
  },
  {
   "cell_type": "markdown",
   "id": "3b062ff5-dd26-4f88-8cce-060171f31dc6",
   "metadata": {},
   "source": [
    "## Exercice 2"
   ]
  },
  {
   "cell_type": "code",
   "execution_count": 16,
   "id": "f72850dd-41e9-4a2e-8965-24a400466ca3",
   "metadata": {
    "tags": []
   },
   "outputs": [],
   "source": [
    "def Croix(i, j, n) :\n",
    "    matrice = np.zeros((n, n))\n",
    "    \n",
    "    matrice[i][j] = 1\n",
    "    if(i > 0) :\n",
    "        matrice[i-1][j] = 1\n",
    "    if(j > 0) :\n",
    "        matrice[i][j-1] = 1\n",
    "    if(i < n-1) :\n",
    "        matrice[i+1][j] = 1\n",
    "    if(j < n-1) :\n",
    "        matrice[i][j+1] = 1\n",
    "        \n",
    "    return matrice"
   ]
  },
  {
   "cell_type": "code",
   "execution_count": 17,
   "id": "4e32a9c5-f97e-41db-ac02-2abca5ba85b5",
   "metadata": {
    "tags": []
   },
   "outputs": [],
   "source": [
    "#Exemple\n",
    "#print(Croix(2,3,5))"
   ]
  },
  {
   "cell_type": "markdown",
   "id": "49f2069c-8520-4bb2-a944-51cc1c9f4af6",
   "metadata": {
    "tags": []
   },
   "source": [
    "## Exercice 3"
   ]
  },
  {
   "cell_type": "code",
   "execution_count": 18,
   "id": "103a4709-1aad-4356-bf6c-1091c967d973",
   "metadata": {
    "tags": []
   },
   "outputs": [],
   "source": [
    "def InitJeu() :\n",
    "    print(\"Bienvenue sur le jeu Lights Out !\\n(© Loïck Gourvil)\\n\")\n",
    "    x = 3\n",
    "    matriceDeJeu = np.empty([x,x])\n",
    "    for i in range(0, len(matriceDeJeu)) :\n",
    "        for j in range(0, len(matriceDeJeu[i])) :\n",
    "            matriceDeJeu[i][j] = np.random.randint(0,2)\n",
    "            \n",
    "    return matriceDeJeu"
   ]
  },
  {
   "cell_type": "code",
   "execution_count": 19,
   "id": "42c49b0f-0b72-44f3-91c8-32958c3d296f",
   "metadata": {
    "tags": []
   },
   "outputs": [],
   "source": [
    "#Exemple\n",
    "#matriceDeJeu = InitJeu()\n",
    "#print(matriceDeJeu)"
   ]
  },
  {
   "cell_type": "code",
   "execution_count": 20,
   "id": "24516231-2bbf-4e52-b580-e6e39e698737",
   "metadata": {
    "tags": []
   },
   "outputs": [
    {
     "name": "stdout",
     "output_type": "stream",
     "text": [
      "Sur quelle ligne se trouve la case que vous souhaitez cliquer ? (première ligne = 0)\n",
      "Sur quelle colonne se trouve la case que vous souhaitez cliquer ? (première colonne = 0)\n"
     ]
    },
    {
     "data": {
      "text/plain": [
       "array([[1., 1., 0.],\n",
       "       [1., 0., 0.],\n",
       "       [0., 0., 0.]])"
      ]
     },
     "execution_count": 20,
     "metadata": {},
     "output_type": "execute_result"
    }
   ],
   "source": [
    "def TourJoueur() :\n",
    "    #Récupération du numéro de ligne\n",
    "    while True :\n",
    "        print(\"Sur quelle ligne se trouve la case que vous souhaitez cliquer ? (première ligne = 0)\")\n",
    "        x = int(input())\n",
    "        if(0 <= x < 3):\n",
    "            break\n",
    "        else:\n",
    "            print(\"Valeure incorrecte, veuillez saisir une valeure comprise entre 0 et 3\")\n",
    "    \n",
    "    #Récupération du numéro de colonne\n",
    "    while True :\n",
    "        print(\"Sur quelle colonne se trouve la case que vous souhaitez cliquer ? (première colonne = 0)\")\n",
    "        y = int(input())\n",
    "        if(0 <= y < 3):\n",
    "            break\n",
    "        else:\n",
    "            print(\"Valeure incorrecte, veuillez saisir une valeure comprise entre 0 et 3\")\n",
    "    return Croix(x, y, 3)\n",
    "\n",
    "TourJoueur()"
   ]
  },
  {
   "cell_type": "code",
   "execution_count": 21,
   "id": "e770eee5-88c3-4fac-ac13-ec15cc81022e",
   "metadata": {
    "tags": []
   },
   "outputs": [],
   "source": [
    "#Exemple\n",
    "#matriceJouer = TourJoueur()\n",
    "#print(matriceJouer)"
   ]
  },
  {
   "cell_type": "code",
   "execution_count": 22,
   "id": "ef32e66e-a8ef-4768-b6b1-7f4c57ab34ee",
   "metadata": {},
   "outputs": [],
   "source": [
    "def CalculNouvelleMatrice(matriceDeJeu, matriceJouer) :\n",
    "    for i in range(0, len(matriceDeJeu)) :\n",
    "        for j in range(0, len(matriceDeJeu[i])) :\n",
    "            if(matriceJouer[i][j] == 1):\n",
    "                if(matriceDeJeu[i][j] == 1):\n",
    "                    matriceDeJeu[i][j] = 0\n",
    "                else:\n",
    "                    matriceDeJeu[i][j] = 1\n",
    "\n",
    "    return matriceDeJeu"
   ]
  },
  {
   "cell_type": "code",
   "execution_count": 23,
   "id": "91e5c9b9-710b-4c11-8211-8317017c29c0",
   "metadata": {},
   "outputs": [],
   "source": [
    "#Exemple\n",
    "#matriceDeJeu = InitJeu()\n",
    "#print(matriceDeJeu)\n",
    "#matriceJouer = TourJoueur()\n",
    "#print(matriceJouer)\n",
    "#print(\"-------------\")\n",
    "#matriceDeJeu = CalculNouvelleMatrice(matriceDeJeu, matriceJouer)\n",
    "#print(matriceDeJeu)"
   ]
  },
  {
   "cell_type": "code",
   "execution_count": 24,
   "id": "cd1a556d-2316-4b86-bf74-a16b20d99ead",
   "metadata": {},
   "outputs": [],
   "source": [
    "def Lights_out() :\n",
    "    matriceDeJeu = InitJeu()\n",
    "    \n",
    "    while True :\n",
    "        print(\"----------------\")\n",
    "        print(\"Matrice de jeu :\")\n",
    "        print(matriceDeJeu)\n",
    "        matriceJouer = TourJoueur()\n",
    "        matriceDeJeu = CalculNouvelleMatrice(matriceDeJeu, matriceJouer)\n",
    "        \n",
    "        if np.all(matriceDeJeu == 0):\n",
    "            print(\"Vous avez gagner !\")\n",
    "            break"
   ]
  },
  {
   "cell_type": "code",
   "execution_count": 25,
   "id": "f3a9cf63-05fe-4711-b022-62a6d383b134",
   "metadata": {},
   "outputs": [
    {
     "name": "stdout",
     "output_type": "stream",
     "text": [
      "Bienvenue sur le jeu Lights Out !\n",
      "(© Loïck Gourvil)\n",
      "\n",
      "----------------\n",
      "Matrice de jeu :\n",
      "[[1. 1. 0.]\n",
      " [0. 1. 0.]\n",
      " [1. 1. 0.]]\n",
      "Sur quelle ligne se trouve la case que vous souhaitez cliquer ? (première ligne = 0)\n",
      "Sur quelle colonne se trouve la case que vous souhaitez cliquer ? (première colonne = 0)\n",
      "----------------\n",
      "Matrice de jeu :\n",
      "[[0. 0. 0.]\n",
      " [1. 1. 0.]\n",
      " [1. 1. 0.]]\n",
      "Sur quelle ligne se trouve la case que vous souhaitez cliquer ? (première ligne = 0)\n",
      "Sur quelle colonne se trouve la case que vous souhaitez cliquer ? (première colonne = 0)\n",
      "----------------\n",
      "Matrice de jeu :\n",
      "[[0. 0. 0.]\n",
      " [0. 1. 0.]\n",
      " [0. 0. 0.]]\n",
      "Sur quelle ligne se trouve la case que vous souhaitez cliquer ? (première ligne = 0)\n",
      "Sur quelle colonne se trouve la case que vous souhaitez cliquer ? (première colonne = 0)\n"
     ]
    },
    {
     "ename": "ValueError",
     "evalue": "invalid literal for int() with base 10: ''",
     "output_type": "error",
     "traceback": [
      "\u001b[0;31m---------------------------------------------------------------------------\u001b[0m",
      "\u001b[0;31mValueError\u001b[0m                                Traceback (most recent call last)",
      "\u001b[1;32m/Users/nathangilbert/Downloads/loick_gourvil_lights_out.ipynb Cell 24\u001b[0m line \u001b[0;36m2\n\u001b[1;32m      <a href='vscode-notebook-cell:/Users/nathangilbert/Downloads/loick_gourvil_lights_out.ipynb#X32sZmlsZQ%3D%3D?line=0'>1</a>\u001b[0m \u001b[39m#Jeu\u001b[39;00m\n\u001b[0;32m----> <a href='vscode-notebook-cell:/Users/nathangilbert/Downloads/loick_gourvil_lights_out.ipynb#X32sZmlsZQ%3D%3D?line=1'>2</a>\u001b[0m Lights_out()\n",
      "\u001b[1;32m/Users/nathangilbert/Downloads/loick_gourvil_lights_out.ipynb Cell 24\u001b[0m line \u001b[0;36m8\n\u001b[1;32m      <a href='vscode-notebook-cell:/Users/nathangilbert/Downloads/loick_gourvil_lights_out.ipynb#X32sZmlsZQ%3D%3D?line=5'>6</a>\u001b[0m \u001b[39mprint\u001b[39m(\u001b[39m\"\u001b[39m\u001b[39mMatrice de jeu :\u001b[39m\u001b[39m\"\u001b[39m)\n\u001b[1;32m      <a href='vscode-notebook-cell:/Users/nathangilbert/Downloads/loick_gourvil_lights_out.ipynb#X32sZmlsZQ%3D%3D?line=6'>7</a>\u001b[0m \u001b[39mprint\u001b[39m(matriceDeJeu)\n\u001b[0;32m----> <a href='vscode-notebook-cell:/Users/nathangilbert/Downloads/loick_gourvil_lights_out.ipynb#X32sZmlsZQ%3D%3D?line=7'>8</a>\u001b[0m matriceJouer \u001b[39m=\u001b[39m TourJoueur()\n\u001b[1;32m      <a href='vscode-notebook-cell:/Users/nathangilbert/Downloads/loick_gourvil_lights_out.ipynb#X32sZmlsZQ%3D%3D?line=8'>9</a>\u001b[0m matriceDeJeu \u001b[39m=\u001b[39m CalculNouvelleMatrice(matriceDeJeu, matriceJouer)\n\u001b[1;32m     <a href='vscode-notebook-cell:/Users/nathangilbert/Downloads/loick_gourvil_lights_out.ipynb#X32sZmlsZQ%3D%3D?line=10'>11</a>\u001b[0m \u001b[39mif\u001b[39;00m np\u001b[39m.\u001b[39mall(matriceDeJeu \u001b[39m==\u001b[39m \u001b[39m0\u001b[39m):\n",
      "\u001b[1;32m/Users/nathangilbert/Downloads/loick_gourvil_lights_out.ipynb Cell 24\u001b[0m line \u001b[0;36m1\n\u001b[1;32m     <a href='vscode-notebook-cell:/Users/nathangilbert/Downloads/loick_gourvil_lights_out.ipynb#X32sZmlsZQ%3D%3D?line=11'>12</a>\u001b[0m \u001b[39mwhile\u001b[39;00m \u001b[39mTrue\u001b[39;00m :\n\u001b[1;32m     <a href='vscode-notebook-cell:/Users/nathangilbert/Downloads/loick_gourvil_lights_out.ipynb#X32sZmlsZQ%3D%3D?line=12'>13</a>\u001b[0m     \u001b[39mprint\u001b[39m(\u001b[39m\"\u001b[39m\u001b[39mSur quelle colonne se trouve la case que vous souhaitez cliquer ? (première colonne = 0)\u001b[39m\u001b[39m\"\u001b[39m)\n\u001b[0;32m---> <a href='vscode-notebook-cell:/Users/nathangilbert/Downloads/loick_gourvil_lights_out.ipynb#X32sZmlsZQ%3D%3D?line=13'>14</a>\u001b[0m     y \u001b[39m=\u001b[39m \u001b[39mint\u001b[39;49m(\u001b[39minput\u001b[39;49m())\n\u001b[1;32m     <a href='vscode-notebook-cell:/Users/nathangilbert/Downloads/loick_gourvil_lights_out.ipynb#X32sZmlsZQ%3D%3D?line=14'>15</a>\u001b[0m     \u001b[39mif\u001b[39;00m(\u001b[39m0\u001b[39m \u001b[39m<\u001b[39m\u001b[39m=\u001b[39m y \u001b[39m<\u001b[39m \u001b[39m3\u001b[39m):\n\u001b[1;32m     <a href='vscode-notebook-cell:/Users/nathangilbert/Downloads/loick_gourvil_lights_out.ipynb#X32sZmlsZQ%3D%3D?line=15'>16</a>\u001b[0m         \u001b[39mbreak\u001b[39;00m\n",
      "\u001b[0;31mValueError\u001b[0m: invalid literal for int() with base 10: ''"
     ]
    }
   ],
   "source": [
    "#Jeu\n",
    "Lights_out()"
   ]
  },
  {
   "cell_type": "markdown",
   "id": "6fb068c2-69b7-44fc-b8a7-0811762ae70d",
   "metadata": {},
   "source": [
    "## Exercice 4"
   ]
  },
  {
   "cell_type": "code",
   "execution_count": 26,
   "id": "bfede18c-873c-41c7-ae5f-ef416b225659",
   "metadata": {},
   "outputs": [],
   "source": [
    "def Matrice_Passage(n):\n",
    "    matriceCroix = []\n",
    "    \n",
    "    for i in range(n):\n",
    "        for j in range(n):\n",
    "            matriceCroix.append(Vecteur_Colonne(Croix(i, j, n)))\n",
    "    \n",
    "    matricePassage = np.vstack(matriceCroix).T\n",
    "    return matricePassage"
   ]
  },
  {
   "cell_type": "code",
   "execution_count": null,
   "id": "f137aae5-d9fe-4c98-a882-846bdc35b19d",
   "metadata": {},
   "outputs": [],
   "source": [
    "#Exemple\n",
    "#print(Matrice_Passage(3))"
   ]
  },
  {
   "cell_type": "markdown",
   "id": "06f9c248-f76d-43f2-9dc6-95da9f72cf8d",
   "metadata": {},
   "source": [
    "## Exercice 5"
   ]
  },
  {
   "cell_type": "markdown",
   "id": "f4e42fa5-b00c-4822-995d-21936455adc9",
   "metadata": {},
   "source": [
    "### Question 1"
   ]
  },
  {
   "cell_type": "code",
   "execution_count": null,
   "id": "03f3ef15-5c71-4bbc-ad94-f25fed682086",
   "metadata": {},
   "outputs": [
    {
     "name": "stdout",
     "output_type": "stream",
     "text": [
      "Pour n = 2  le déterminant est 1\n",
      "Pour n = 3  le déterminant est 1\n",
      "Pour n = 4  le déterminant est 0\n",
      "Pour n = 5  le déterminant est 0\n",
      "Pour n = 6  le déterminant est 1\n",
      "Pour n = 7  le déterminant est 1\n",
      "Pour n = 8  le déterminant est 1\n",
      "Pour n = 9  le déterminant est 0\n",
      "Pour n = 10  le déterminant est 1\n",
      "Pour n = 11  le déterminant est 0\n"
     ]
    }
   ],
   "source": [
    "for n in range(2, 12):\n",
    "    matricePassage = Matrice_Passage(n)\n",
    "    determinant = int(np.linalg.det(matricePassage).round() % 2)\n",
    "    print(\"Pour n =\",n,\" le déterminant est\",determinant)"
   ]
  },
  {
   "cell_type": "markdown",
   "id": "9413a300-5894-468c-9237-de5b18d69aef",
   "metadata": {},
   "source": [
    "### Question 2"
   ]
  },
  {
   "cell_type": "code",
   "execution_count": null,
   "id": "8f7bdccc-3d46-4d68-9601-c8cc373883e2",
   "metadata": {},
   "outputs": [
    {
     "name": "stdout",
     "output_type": "stream",
     "text": [
      "Pour n = 2 il existe une solution unique\n",
      "Pour n = 3 il existe une solution unique\n",
      "Pour n = 6 il existe une solution unique\n",
      "Pour n = 7 il existe une solution unique\n",
      "Pour n = 8 il existe une solution unique\n",
      "Pour n = 10 il existe une solution unique\n"
     ]
    }
   ],
   "source": [
    "for n in range(2, 12):\n",
    "    matricePassage = Matrice_Passage(n)\n",
    "    determinant = int(np.linalg.det(matricePassage).round() % 2)\n",
    "    if determinant == 1:\n",
    "        print(\"Pour n =\",n,\"il existe une solution unique\")"
   ]
  },
  {
   "cell_type": "markdown",
   "id": "c071abab-82fc-4705-b044-d324daab925e",
   "metadata": {},
   "source": [
    "## Exercice 6"
   ]
  },
  {
   "cell_type": "code",
   "execution_count": null,
   "id": "e3248f4e-1acb-490c-8042-96d2635e137a",
   "metadata": {},
   "outputs": [
    {
     "data": {
      "text/plain": [
       "array([[0., 0., 0., 1.],\n",
       "       [0., 0., 1., 0.],\n",
       "       [0., 1., 0., 0.],\n",
       "       [1., 0., 0., 0.]])"
      ]
     },
     "execution_count": 202,
     "metadata": {},
     "output_type": "execute_result"
    }
   ],
   "source": [
    "np.linalg.inv(Matrice_Passage(2)).round() % 2"
   ]
  },
  {
   "cell_type": "markdown",
   "id": "c5c585ea-a92f-46af-9f6a-6eae406b6029",
   "metadata": {},
   "source": [
    "## Exercice 7"
   ]
  },
  {
   "cell_type": "code",
   "execution_count": null,
   "id": "fc34d91c-b1e7-40aa-884c-cf73f5979521",
   "metadata": {},
   "outputs": [],
   "source": [
    "def Inverse(A):\n",
    "    A = A.round(0)\n",
    "    A = A.astype(int)\n",
    "    \n",
    "    matrice = Matrix(A)\n",
    "    matriceInv = matrice.inv_mod(2)\n",
    "    matriceInv = np.array(matriceInv)\n",
    "    return matriceInv"
   ]
  },
  {
   "cell_type": "code",
   "execution_count": null,
   "id": "79e1a2ca-1b91-4526-a867-954d783af096",
   "metadata": {},
   "outputs": [],
   "source": [
    "#Exemple\n",
    "#A = Matrice_Passage(3)\n",
    "#print(A)\n",
    "#print(Inverse(A))"
   ]
  },
  {
   "cell_type": "code",
   "execution_count": null,
   "id": "0ab9f46a-ae9f-4997-a12a-354355259aa1",
   "metadata": {},
   "outputs": [],
   "source": [
    "def Solution(A):\n",
    "    taille = int(sqrt(np.size(A)))\n",
    "    vectA = A.reshape(taille**2, 1)\n",
    "    matriceInv = Inverse(Matrice_Passage(3))\n",
    "    \n",
    "    # Calculer la solution S\n",
    "    vectS = np.dot(matriceInv,vectA) % 2\n",
    "\n",
    "    # Reconvertir la matrice colonne en une matrice taille*taille\n",
    "    S = vectS.reshape(taille,taille)\n",
    "    \n",
    "    return S"
   ]
  },
  {
   "cell_type": "code",
   "execution_count": null,
   "id": "8d1ceb0e-8b48-4bff-88cc-d8f2ed9ac91e",
   "metadata": {},
   "outputs": [
    {
     "name": "stdout",
     "output_type": "stream",
     "text": [
      "[[0 0 0]\n",
      " [0 1 0]\n",
      " [0 0 0]]\n"
     ]
    }
   ],
   "source": [
    "#Exemple\n",
    "S = Solution(np.array([[0, 1, 0], [1, 1, 1], [0, 1, 0]]))\n",
    "print(S)"
   ]
  }
 ],
 "metadata": {
  "kernelspec": {
   "display_name": "Python 3 (ipykernel)",
   "language": "python",
   "name": "python3"
  },
  "language_info": {
   "codemirror_mode": {
    "name": "ipython",
    "version": 3
   },
   "file_extension": ".py",
   "mimetype": "text/x-python",
   "name": "python",
   "nbconvert_exporter": "python",
   "pygments_lexer": "ipython3",
   "version": "3.11.5"
  }
 },
 "nbformat": 4,
 "nbformat_minor": 5
}
